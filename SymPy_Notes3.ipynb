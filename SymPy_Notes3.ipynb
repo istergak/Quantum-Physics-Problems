{
 "cells": [
  {
   "cell_type": "markdown",
   "metadata": {},
   "source": [
    "**PHYSICS DEPARTMENT - ARISTOTLE UNIVERSITY OF THESSALONIKI**<br>\n",
    "**SUBJECT: Quantum Physics Problems [ΓΘΕ204]**<br>\n",
    "**ACADEMIC YEAR: 2024-2025**\n",
    "\n",
    "***SymPy Notebook 3:***<br>\n",
    "-Calculus with `SymPy`<br>\n",
    "\n",
    "**Written by: Ioannis Stergakis (postgraduate student at MSc Computational Physics AUTh)**"
   ]
  },
  {
   "cell_type": "code",
   "execution_count": 1,
   "metadata": {},
   "outputs": [],
   "source": [
    "# Importation of SymPy module (never forget to run this cell !!!)\n",
    "import sympy as smp"
   ]
  },
  {
   "cell_type": "markdown",
   "metadata": {},
   "source": [
    "# **Application 4: Calculus**\n",
    "\n",
    "In `SymPy` we can perform various calculus processes such as evaluation of limits, differentiation, integration and others"
   ]
  },
  {
   "cell_type": "markdown",
   "metadata": {},
   "source": [
    "## A. Limits"
   ]
  },
  {
   "cell_type": "markdown",
   "metadata": {},
   "source": [
    "Using the `limit()` command, one can find the limit of an expression or a function:"
   ]
  },
  {
   "cell_type": "code",
   "execution_count": 2,
   "metadata": {},
   "outputs": [
    {
     "data": {
      "text/latex": [
       "$\\displaystyle 1$"
      ],
      "text/plain": [
       "1"
      ]
     },
     "execution_count": 2,
     "metadata": {},
     "output_type": "execute_result"
    }
   ],
   "source": [
    "# Example 1\n",
    "x = smp.symbols(\"x\",Real=True)\n",
    "smp.limit(smp.sin(x)/x,x,0)"
   ]
  },
  {
   "cell_type": "markdown",
   "metadata": {},
   "source": [
    "We can define the direction of approach in a limit:"
   ]
  },
  {
   "cell_type": "code",
   "execution_count": 3,
   "metadata": {},
   "outputs": [
    {
     "data": {
      "text/latex": [
       "$\\displaystyle \\infty$"
      ],
      "text/plain": [
       "oo"
      ]
     },
     "metadata": {},
     "output_type": "display_data"
    },
    {
     "data": {
      "text/latex": [
       "$\\displaystyle -\\infty$"
      ],
      "text/plain": [
       "-oo"
      ]
     },
     "metadata": {},
     "output_type": "display_data"
    }
   ],
   "source": [
    "# Example 2 \n",
    "display(smp.limit(1/x,x,0,\"+\"))\n",
    "display(smp.limit(1/x,x,0,\"-\"))"
   ]
  },
  {
   "cell_type": "markdown",
   "metadata": {},
   "source": [
    "Of course there are also the limits when the variable of the limit approaches $\\infty$ or $-\\infty$:"
   ]
  },
  {
   "cell_type": "code",
   "execution_count": 4,
   "metadata": {},
   "outputs": [
    {
     "data": {
      "text/latex": [
       "$\\displaystyle \\infty$"
      ],
      "text/plain": [
       "oo"
      ]
     },
     "metadata": {},
     "output_type": "display_data"
    },
    {
     "data": {
      "text/latex": [
       "$\\displaystyle 0$"
      ],
      "text/plain": [
       "0"
      ]
     },
     "metadata": {},
     "output_type": "display_data"
    },
    {
     "data": {
      "text/latex": [
       "$\\displaystyle 0$"
      ],
      "text/plain": [
       "0"
      ]
     },
     "metadata": {},
     "output_type": "display_data"
    },
    {
     "data": {
      "text/latex": [
       "$\\displaystyle \\infty$"
      ],
      "text/plain": [
       "oo"
      ]
     },
     "metadata": {},
     "output_type": "display_data"
    }
   ],
   "source": [
    "# Example 3\n",
    "display(smp.limit(smp.exp(-x),x,-smp.oo))\n",
    "display(smp.limit(smp.exp(-x),x,smp.oo))\n",
    "display(smp.limit(smp.exp(x),x,-smp.oo))\n",
    "display(smp.limit(smp.exp(x),x,smp.oo))"
   ]
  },
  {
   "cell_type": "markdown",
   "metadata": {},
   "source": [
    "The limits of functions with multiple arguments are quite interesting:"
   ]
  },
  {
   "cell_type": "code",
   "execution_count": 5,
   "metadata": {},
   "outputs": [
    {
     "data": {
      "text/latex": [
       "$\\displaystyle x \\sin{\\left(y \\right)} + y \\cos{\\left(x \\right)}$"
      ],
      "text/plain": [
       "x*sin(y) + y*cos(x)"
      ]
     },
     "metadata": {},
     "output_type": "display_data"
    },
    {
     "data": {
      "text/latex": [
       "$\\displaystyle y$"
      ],
      "text/plain": [
       "y"
      ]
     },
     "metadata": {},
     "output_type": "display_data"
    },
    {
     "data": {
      "text/latex": [
       "$\\displaystyle x + \\frac{\\pi \\cos{\\left(x \\right)}}{2}$"
      ],
      "text/plain": [
       "x + pi*cos(x)/2"
      ]
     },
     "metadata": {},
     "output_type": "display_data"
    },
    {
     "data": {
      "text/latex": [
       "$\\displaystyle \\frac{\\pi}{2}$"
      ],
      "text/plain": [
       "pi/2"
      ]
     },
     "metadata": {},
     "output_type": "display_data"
    },
    {
     "data": {
      "text/latex": [
       "$\\displaystyle \\frac{\\pi}{2}$"
      ],
      "text/plain": [
       "pi/2"
      ]
     },
     "metadata": {},
     "output_type": "display_data"
    }
   ],
   "source": [
    "# Example 4\n",
    "x,y = smp.symbols(\"x,y\",Real=True)\n",
    "def f(x,y):\n",
    "    return x*smp.sin(y)+y*smp.cos(x)\n",
    "\n",
    "display(f(x,y))\n",
    "\n",
    "lim_x = smp.limit(f(x,y),x,0)\n",
    "lim_y = smp.limit(f(x,y),y,smp.pi/2)\n",
    "lim_xy = smp.limit(lim_x,y,smp.pi/2)\n",
    "lim_yx = smp.limit(lim_y,x,0)\n",
    "display(lim_x)\n",
    "display(lim_y)\n",
    "display(lim_xy)\n",
    "display(lim_yx)"
   ]
  },
  {
   "cell_type": "code",
   "execution_count": 6,
   "metadata": {},
   "outputs": [
    {
     "data": {
      "text/latex": [
       "$\\displaystyle \\frac{e^{x - y}}{x}$"
      ],
      "text/plain": [
       "exp(x - y)/x"
      ]
     },
     "metadata": {},
     "output_type": "display_data"
    },
    {
     "data": {
      "text/latex": [
       "$\\displaystyle - \\infty \\operatorname{sign}{\\left(e^{- y} \\right)}$"
      ],
      "text/plain": [
       "-oo*sign(exp(-y))"
      ]
     },
     "metadata": {},
     "output_type": "display_data"
    },
    {
     "data": {
      "text/latex": [
       "$\\displaystyle \\frac{e^{x}}{x}$"
      ],
      "text/plain": [
       "exp(x)/x"
      ]
     },
     "metadata": {},
     "output_type": "display_data"
    },
    {
     "data": {
      "text/latex": [
       "$\\displaystyle \\lim_{y \\to 0^+}\\left(- \\infty \\operatorname{sign}{\\left(e^{- y} \\right)}\\right)$"
      ],
      "text/plain": [
       "Limit(-oo*sign(exp(-y)), y, 0, dir='+')"
      ]
     },
     "metadata": {},
     "output_type": "display_data"
    },
    {
     "data": {
      "text/latex": [
       "$\\displaystyle \\infty$"
      ],
      "text/plain": [
       "oo"
      ]
     },
     "metadata": {},
     "output_type": "display_data"
    }
   ],
   "source": [
    "# Example 5\n",
    "x,y = smp.symbols(\"x,y\",Real=True)\n",
    "def f(x,y):\n",
    "    return smp.exp(x-y)/x\n",
    "\n",
    "display(f(x,y))\n",
    "\n",
    "lim_x = smp.limit(f(x,y),x,0,dir=\"-\")\n",
    "lim_y = smp.limit(f(x,y),y,0)\n",
    "lim_xy = smp.limit(lim_x,y,0)\n",
    "lim_yx = smp.limit(lim_y,x,0)\n",
    "display(lim_x)\n",
    "display(lim_y)\n",
    "display(lim_xy)\n",
    "display(lim_yx)"
   ]
  },
  {
   "cell_type": "markdown",
   "metadata": {},
   "source": [
    "## **Example 4**\n",
    "\n",
    "Define the following function:\n",
    "\n",
    "$$ g(x,y) = cos(xy) + x^3y^2$$\n",
    "\n",
    "**a.** Define the symbols `x`,`y` and `h` that are real numbers and display the expressions:\n",
    "$$Dg\\_Dx = \\frac{g(x+h,y)-g(x,y)}{h}$$\n",
    "\n",
    "$$Dg\\_Dy = \\frac{g(x,y+h)-g(x,y)}{h}$$\n",
    "\n",
    "**b.** Find the limits of the expressions when $h\\rightarrow 0$\n",
    "\n",
    "**Solution**"
   ]
  },
  {
   "cell_type": "code",
   "execution_count": null,
   "metadata": {},
   "outputs": [],
   "source": []
  },
  {
   "cell_type": "markdown",
   "metadata": {},
   "source": [
    "## B. Differentiation"
   ]
  },
  {
   "cell_type": "markdown",
   "metadata": {},
   "source": [
    "In order to find the derivatives of a function we can use the `diff()` command:"
   ]
  },
  {
   "cell_type": "code",
   "execution_count": 7,
   "metadata": {},
   "outputs": [
    {
     "data": {
      "text/latex": [
       "$\\displaystyle - \\frac{1}{x^{2}}$"
      ],
      "text/plain": [
       "-1/x**2"
      ]
     },
     "execution_count": 7,
     "metadata": {},
     "output_type": "execute_result"
    }
   ],
   "source": [
    "# Example 1\n",
    "x = smp.symbols(\"x\",Real=True)\n",
    "def f(x):\n",
    "    return smp.log(x)\n",
    "\n",
    "smp.diff(f(x),x,2)"
   ]
  },
  {
   "cell_type": "code",
   "execution_count": 8,
   "metadata": {},
   "outputs": [
    {
     "data": {
      "text/latex": [
       "$\\displaystyle - \\frac{1}{x^{2}}$"
      ],
      "text/plain": [
       "-1/x**2"
      ]
     },
     "execution_count": 8,
     "metadata": {},
     "output_type": "execute_result"
    }
   ],
   "source": [
    "# Alternative way of differentiation\n",
    "f(x).diff(x,2)"
   ]
  },
  {
   "cell_type": "code",
   "execution_count": 9,
   "metadata": {},
   "outputs": [
    {
     "data": {
      "text/latex": [
       "$\\displaystyle x \\cos{\\left(y \\right)} + y \\cos{\\left(x \\right)}$"
      ],
      "text/plain": [
       "x*cos(y) + y*cos(x)"
      ]
     },
     "metadata": {},
     "output_type": "display_data"
    },
    {
     "data": {
      "text/latex": [
       "$\\displaystyle - y \\sin{\\left(x \\right)} + \\cos{\\left(y \\right)}$"
      ],
      "text/plain": [
       "-y*sin(x) + cos(y)"
      ]
     },
     "metadata": {},
     "output_type": "display_data"
    },
    {
     "data": {
      "text/latex": [
       "$\\displaystyle - x \\sin{\\left(y \\right)} + \\cos{\\left(x \\right)}$"
      ],
      "text/plain": [
       "-x*sin(y) + cos(x)"
      ]
     },
     "metadata": {},
     "output_type": "display_data"
    },
    {
     "data": {
      "text/latex": [
       "$\\displaystyle - \\cos{\\left(x \\right)}$"
      ],
      "text/plain": [
       "-cos(x)"
      ]
     },
     "metadata": {},
     "output_type": "display_data"
    },
    {
     "data": {
      "text/latex": [
       "$\\displaystyle - \\cos{\\left(y \\right)}$"
      ],
      "text/plain": [
       "-cos(y)"
      ]
     },
     "metadata": {},
     "output_type": "display_data"
    }
   ],
   "source": [
    "# Example 2\n",
    "x,y = smp.symbols(\"x,y\",Real=True)\n",
    "def f(x,y):\n",
    "    return y*smp.cos(x) + x*smp.cos(y)\n",
    "\n",
    "display(f(x,y))\n",
    "\n",
    "display(smp.diff(f(x,y),x))\n",
    "display(smp.diff(f(x,y),y))\n",
    "display(smp.diff(f(x,y),x,2,y))\n",
    "display(smp.diff(f(x,y),x,y,2))"
   ]
  },
  {
   "cell_type": "code",
   "execution_count": 10,
   "metadata": {},
   "outputs": [],
   "source": [
    "# Example 3: differentiation of symbols-functions\n",
    "x,y = smp.symbols(\"x,y\",Real=True)\n",
    "u = smp.Function(\"u\")\n",
    "v = smp.Function(\"v\")(x,y)"
   ]
  },
  {
   "cell_type": "code",
   "execution_count": 11,
   "metadata": {},
   "outputs": [
    {
     "data": {
      "text/plain": [
       "u"
      ]
     },
     "metadata": {},
     "output_type": "display_data"
    },
    {
     "data": {
      "text/latex": [
       "$\\displaystyle v{\\left(x,y \\right)}$"
      ],
      "text/plain": [
       "v(x, y)"
      ]
     },
     "metadata": {},
     "output_type": "display_data"
    }
   ],
   "source": [
    "display(u,v)"
   ]
  },
  {
   "cell_type": "code",
   "execution_count": 12,
   "metadata": {},
   "outputs": [
    {
     "data": {
      "text/latex": [
       "$\\displaystyle \\frac{d}{d x} u{\\left(x \\right)}$"
      ],
      "text/plain": [
       "Derivative(u(x), x)"
      ]
     },
     "metadata": {},
     "output_type": "display_data"
    }
   ],
   "source": [
    "display(u(x).diff(x))"
   ]
  },
  {
   "cell_type": "code",
   "execution_count": 13,
   "metadata": {},
   "outputs": [
    {
     "data": {
      "text/latex": [
       "$\\displaystyle 0$"
      ],
      "text/plain": [
       "0"
      ]
     },
     "metadata": {},
     "output_type": "display_data"
    }
   ],
   "source": [
    "display(u(x).diff(y))"
   ]
  },
  {
   "cell_type": "code",
   "execution_count": 14,
   "metadata": {},
   "outputs": [
    {
     "data": {
      "text/latex": [
       "$\\displaystyle \\frac{\\partial}{\\partial x} v{\\left(x,y \\right)}$"
      ],
      "text/plain": [
       "Derivative(v(x, y), x)"
      ]
     },
     "metadata": {},
     "output_type": "display_data"
    }
   ],
   "source": [
    "display(v.diff(x))"
   ]
  },
  {
   "cell_type": "code",
   "execution_count": 15,
   "metadata": {},
   "outputs": [
    {
     "data": {
      "text/latex": [
       "$\\displaystyle \\frac{\\partial^{2}}{\\partial y^{2}} v{\\left(x,y \\right)}$"
      ],
      "text/plain": [
       "Derivative(v(x, y), (y, 2))"
      ]
     },
     "metadata": {},
     "output_type": "display_data"
    }
   ],
   "source": [
    "display(v.diff(y,2))"
   ]
  },
  {
   "cell_type": "code",
   "execution_count": 16,
   "metadata": {},
   "outputs": [
    {
     "data": {
      "text/latex": [
       "$\\displaystyle \\frac{\\partial^{2}}{\\partial y\\partial x} v{\\left(x,y \\right)}$"
      ],
      "text/plain": [
       "Derivative(v(x, y), x, y)"
      ]
     },
     "metadata": {},
     "output_type": "display_data"
    }
   ],
   "source": [
    "display(v.diff(x,y))"
   ]
  },
  {
   "cell_type": "code",
   "execution_count": 17,
   "metadata": {},
   "outputs": [
    {
     "data": {
      "text/latex": [
       "$\\displaystyle \\frac{\\partial^{4}}{\\partial y^{3}\\partial x} v{\\left(x,y \\right)}$"
      ],
      "text/plain": [
       "Derivative(v(x, y), x, (y, 3))"
      ]
     },
     "metadata": {},
     "output_type": "display_data"
    }
   ],
   "source": [
    "display(v.diff(x,y,3))"
   ]
  },
  {
   "cell_type": "markdown",
   "metadata": {},
   "source": [
    "## C. Integration"
   ]
  },
  {
   "cell_type": "markdown",
   "metadata": {},
   "source": [
    "To calculate integrals in `SymPy` we use the command `integrate()`"
   ]
  },
  {
   "cell_type": "markdown",
   "metadata": {},
   "source": [
    "### **Indefinite integrals**"
   ]
  },
  {
   "cell_type": "code",
   "execution_count": 18,
   "metadata": {},
   "outputs": [
    {
     "data": {
      "text/latex": [
       "$\\displaystyle 3 x^{2} y^{3} + y \\cos{\\left(x z \\right)}$"
      ],
      "text/plain": [
       "3*x**2*y**3 + y*cos(x*z)"
      ]
     },
     "metadata": {},
     "output_type": "display_data"
    },
    {
     "data": {
      "text/latex": [
       "$\\displaystyle x^{3} y^{3} + y \\left(\\begin{cases} \\frac{\\sin{\\left(x z \\right)}}{z} & \\text{for}\\: z \\neq 0 \\\\x & \\text{otherwise} \\end{cases}\\right)$"
      ],
      "text/plain": [
       "x**3*y**3 + y*Piecewise((sin(x*z)/z, Ne(z, 0)), (x, True))"
      ]
     },
     "execution_count": 18,
     "metadata": {},
     "output_type": "execute_result"
    }
   ],
   "source": [
    "# Example 1\n",
    "\n",
    "def f(x,y,z):\n",
    "    return 3*x**2*y**3 + y*smp.cos(x*z)\n",
    "\n",
    "# No constraints for the symbolic variables\n",
    "x,y,z = smp.symbols(\"x,y,z\")\n",
    "\n",
    "# Displaying the formula of the function\n",
    "display(f(x,y,z))\n",
    "# Integrating the function with respect to the variable x\n",
    "smp.integrate(f(x,y,z),x)"
   ]
  },
  {
   "cell_type": "code",
   "execution_count": 19,
   "metadata": {},
   "outputs": [
    {
     "data": {
      "text/latex": [
       "$\\displaystyle 3 x^{2} y^{3} + y \\cos{\\left(x z \\right)}$"
      ],
      "text/plain": [
       "3*x**2*y**3 + y*cos(x*z)"
      ]
     },
     "metadata": {},
     "output_type": "display_data"
    },
    {
     "data": {
      "text/latex": [
       "$\\displaystyle x^{3} y^{3} + \\frac{y \\sin{\\left(x z \\right)}}{z}$"
      ],
      "text/plain": [
       "x**3*y**3 + y*sin(x*z)/z"
      ]
     },
     "execution_count": 19,
     "metadata": {},
     "output_type": "execute_result"
    }
   ],
   "source": [
    "# Adding constraints to the symbolic variables\n",
    "x,y = smp.symbols(\"x,y\",Real=True)\n",
    "z = smp.symbols(\"z\",Real=True,nonzero=True)\n",
    "\n",
    "# Displaying the formula of the function\n",
    "display(f(x,y,z))\n",
    "# Integrating the function with respect to the variable x\n",
    "smp.integrate(f(x,y,z),x)"
   ]
  },
  {
   "cell_type": "code",
   "execution_count": 20,
   "metadata": {},
   "outputs": [
    {
     "data": {
      "text/latex": [
       "$\\displaystyle \\sin{\\left(x y \\right)} + \\cos{\\left(y z \\right)}$"
      ],
      "text/plain": [
       "sin(x*y) + cos(y*z)"
      ]
     },
     "metadata": {},
     "output_type": "display_data"
    },
    {
     "data": {
      "text/latex": [
       "$\\displaystyle x \\cos{\\left(y z \\right)} + \\begin{cases} - \\frac{\\cos{\\left(x y \\right)}}{y} & \\text{for}\\: y \\neq 0 \\\\0 & \\text{otherwise} \\end{cases}$"
      ],
      "text/plain": [
       "x*cos(y*z) + Piecewise((-cos(x*y)/y, Ne(y, 0)), (0, True))"
      ]
     },
     "metadata": {},
     "output_type": "display_data"
    },
    {
     "data": {
      "text/latex": [
       "$\\displaystyle x \\cos{\\left(y z \\right)} - \\frac{\\cos{\\left(x y \\right)}}{y}$"
      ],
      "text/plain": [
       "x*cos(y*z) - cos(x*y)/y"
      ]
     },
     "metadata": {},
     "output_type": "display_data"
    },
    {
     "data": {
      "text/latex": [
       "$\\displaystyle x$"
      ],
      "text/plain": [
       "x"
      ]
     },
     "metadata": {},
     "output_type": "display_data"
    }
   ],
   "source": [
    "# Example 2\n",
    "\n",
    "# Using a different function\n",
    "def f(x,y,z):\n",
    "    return smp.sin(x*y) + smp.cos(y*z)\n",
    "\n",
    "# Displaying the formula of the function\n",
    "display(f(x,y,z))\n",
    "\n",
    "# Evaluation 1\n",
    "x,y,z = smp.symbols(\"x,y,z\",Real=True)\n",
    "display(smp.integrate(f(x,y,z),x))\n",
    "\n",
    "# Evaluation 2\n",
    "x,z = smp.symbols(\"x,z\",Real=True)\n",
    "y = smp.symbols(\"y\",Real=True,nonzero=True)\n",
    "display(smp.integrate(f(x,y,z),x))\n",
    "\n",
    "# Evaluation 3\n",
    "x,z = smp.symbols(\"x,z\",Real=True)\n",
    "display(smp.integrate(f(x,0,z),x))"
   ]
  },
  {
   "cell_type": "markdown",
   "metadata": {},
   "source": [
    "### **Definite integrals**"
   ]
  },
  {
   "cell_type": "markdown",
   "metadata": {},
   "source": [
    "One can provide limits for the integration variable and evaluate definite integrals"
   ]
  },
  {
   "cell_type": "code",
   "execution_count": 21,
   "metadata": {},
   "outputs": [
    {
     "data": {
      "text/latex": [
       "$\\displaystyle 3 x^{2} y^{3} + y \\cos{\\left(x z \\right)}$"
      ],
      "text/plain": [
       "3*x**2*y**3 + y*cos(x*z)"
      ]
     },
     "metadata": {},
     "output_type": "display_data"
    },
    {
     "data": {
      "text/latex": [
       "$\\displaystyle 2 y^{3} + \\begin{cases} \\frac{2 y \\sin{\\left(z \\right)}}{z} & \\text{for}\\: z > -\\infty \\wedge z < \\infty \\wedge z \\neq 0 \\\\2 y & \\text{otherwise} \\end{cases}$"
      ],
      "text/plain": [
       "2*y**3 + Piecewise((2*y*sin(z)/z, (z > -oo) & (z < oo) & Ne(z, 0)), (2*y, True))"
      ]
     },
     "metadata": {},
     "output_type": "display_data"
    },
    {
     "data": {
      "text/latex": [
       "$\\displaystyle 2 y^{3} + \\frac{2 y \\sin{\\left(z \\right)}}{z}$"
      ],
      "text/plain": [
       "2*y**3 + 2*y*sin(z)/z"
      ]
     },
     "metadata": {},
     "output_type": "display_data"
    },
    {
     "data": {
      "text/latex": [
       "$\\displaystyle 2 y^{3} + 2 y$"
      ],
      "text/plain": [
       "2*y**3 + 2*y"
      ]
     },
     "metadata": {},
     "output_type": "display_data"
    }
   ],
   "source": [
    "# Example 3\n",
    "\n",
    "# Using the same function as in Example 1\n",
    "def f(x,y,z):\n",
    "    return 3*x**2*y**3 + y*smp.cos(x*z)\n",
    "\n",
    "# Displaying the formula of the function\n",
    "display(f(x,y,z))\n",
    "\n",
    "# Evaluation 1\n",
    "x,y,z = smp.symbols(\"x,y,z\",Real=True)\n",
    "display(smp.integrate(f(x,y,z),(x,-1,1)))\n",
    "\n",
    "# Evaluation 2\n",
    "x,y = smp.symbols(\"x,y\",Real=True)\n",
    "z = smp.symbols(\"z\",Real=True,nonzero=True)\n",
    "display(smp.integrate(f(x,y,z),(x,-1,1)))\n",
    "\n",
    "# Evaluation 3\n",
    "x,y = smp.symbols(\"x,y\",Real=True)\n",
    "display(smp.integrate(f(x,y,0),(x,-1,1)))"
   ]
  },
  {
   "cell_type": "markdown",
   "metadata": {},
   "source": [
    "### **Improper integrals**"
   ]
  },
  {
   "cell_type": "markdown",
   "metadata": {},
   "source": [
    "When one or both limits of the integral are infinite we call this integral improper"
   ]
  },
  {
   "cell_type": "code",
   "execution_count": 22,
   "metadata": {},
   "outputs": [
    {
     "data": {
      "text/latex": [
       "$\\displaystyle \\infty$"
      ],
      "text/plain": [
       "oo"
      ]
     },
     "metadata": {},
     "output_type": "display_data"
    }
   ],
   "source": [
    "# Example 4\n",
    "\n",
    "def f(x):\n",
    "    return smp.exp(-x)\n",
    "\n",
    "x = smp.symbols('x',Real=True)\n",
    "I = smp.integrate(f(x),(x,-smp.oo,smp.oo))\n",
    "display(I)"
   ]
  },
  {
   "cell_type": "code",
   "execution_count": 23,
   "metadata": {},
   "outputs": [
    {
     "data": {
      "text/latex": [
       "$\\displaystyle -1 + e^{- a}$"
      ],
      "text/plain": [
       "-1 + exp(-a)"
      ]
     },
     "metadata": {},
     "output_type": "display_data"
    },
    {
     "data": {
      "text/latex": [
       "$\\displaystyle 1 - e^{- b}$"
      ],
      "text/plain": [
       "1 - exp(-b)"
      ]
     },
     "metadata": {},
     "output_type": "display_data"
    },
    {
     "data": {
      "text/latex": [
       "$\\displaystyle - e^{- b} + e^{- a}$"
      ],
      "text/plain": [
       "-exp(-b) + exp(-a)"
      ]
     },
     "metadata": {},
     "output_type": "display_data"
    },
    {
     "data": {
      "text/latex": [
       "$\\displaystyle e^{- a}$"
      ],
      "text/plain": [
       "exp(-a)"
      ]
     },
     "metadata": {},
     "output_type": "display_data"
    },
    {
     "data": {
      "text/latex": [
       "$\\displaystyle \\infty$"
      ],
      "text/plain": [
       "oo"
      ]
     },
     "metadata": {},
     "output_type": "display_data"
    }
   ],
   "source": [
    "# Alternative way\n",
    "\n",
    "a,b = smp.symbols(\"a,b\",Real=True)\n",
    "\n",
    "# Separating the initial integral to two non-overlapping integrals with limits [a,0] and [0,b], respectively\n",
    "I1 = smp.integrate(f(x),(x,a,0))\n",
    "display(I1)\n",
    "\n",
    "I2 = smp.integrate(f(x),(x,0,b))\n",
    "display(I2)\n",
    "\n",
    "# Taking the sum of I1 and I2\n",
    "I_sum = I1 + I2\n",
    "display(I_sum)\n",
    "\n",
    "# Taking sequentially the limits of I_sum, when b->oo and a->-oo\n",
    "I_sum_lim_b = smp.limit(I_sum,b,smp.oo)\n",
    "display(I_sum_lim_b)\n",
    "display(smp.limit(I_sum_lim_b,a,-smp.oo))"
   ]
  },
  {
   "cell_type": "markdown",
   "metadata": {},
   "source": [
    "### **Multiple integrals**"
   ]
  },
  {
   "cell_type": "markdown",
   "metadata": {},
   "source": [
    "`SymPy` does not offer a direct way to calculate multiple integrals. Therefore, the only way to find a multiple integral is to do it manually and sequentially, as shown below:"
   ]
  },
  {
   "cell_type": "markdown",
   "metadata": {},
   "source": [
    "Notes: The volume of the sphere is given by the triple integral:\n",
    "\n",
    "$$I = \\int^{R}_0 \\int^{2π}_0 \\int^{π}_0 r^2 \\sin{θ} dθdφdr$$\n",
    "\n",
    "where $R$ is the radius of the sphere"
   ]
  },
  {
   "cell_type": "code",
   "execution_count": 24,
   "metadata": {},
   "outputs": [
    {
     "data": {
      "text/latex": [
       "$\\displaystyle \\frac{4 \\pi R^{3}}{3}$"
      ],
      "text/plain": [
       "4*pi*R**3/3"
      ]
     },
     "metadata": {},
     "output_type": "display_data"
    }
   ],
   "source": [
    "# Example 5: Calculating the volume of a Sphere with a triple integral\n",
    "\n",
    "r,R = smp.symbols(\"r,R\",positive=True)\n",
    "theta,phi = smp.symbols(\"θ,φ\",Real=True)\n",
    "\n",
    "I_theta = smp.integrate(r**2*smp.sin(theta),(theta,0,smp.pi))\n",
    "I_phi = smp.integrate(I_theta,(phi,0,2*smp.pi))\n",
    "I_R = smp.integrate(I_phi,(r,0,R))\n",
    "display(I_R)"
   ]
  },
  {
   "cell_type": "markdown",
   "metadata": {},
   "source": [
    "## D. Sums, Products and Series"
   ]
  },
  {
   "cell_type": "markdown",
   "metadata": {},
   "source": [
    "### **Sums**"
   ]
  },
  {
   "cell_type": "markdown",
   "metadata": {},
   "source": [
    "We can evaluate sums using the command `Sum()`"
   ]
  },
  {
   "cell_type": "code",
   "execution_count": 25,
   "metadata": {},
   "outputs": [
    {
     "data": {
      "text/latex": [
       "$\\displaystyle \\sum_{k=1}^{n} \\frac{1}{k}$"
      ],
      "text/plain": [
       "Sum(1/k, (k, 1, n))"
      ]
     },
     "execution_count": 25,
     "metadata": {},
     "output_type": "execute_result"
    }
   ],
   "source": [
    "# Example 1: symbolic form of the sum: 1/k for k:1->n\n",
    "n,k = smp.symbols(\"n,k\",Real=True)\n",
    "\n",
    "smp.Sum(1/k,(k,1,n))"
   ]
  },
  {
   "cell_type": "code",
   "execution_count": 26,
   "metadata": {},
   "outputs": [
    {
     "data": {
      "text/latex": [
       "$\\displaystyle \\sum_{k=1}^{10} \\frac{1}{k^{2}}$"
      ],
      "text/plain": [
       "Sum(k**(-2), (k, 1, 10))"
      ]
     },
     "metadata": {},
     "output_type": "display_data"
    },
    {
     "data": {
      "text/latex": [
       "$\\displaystyle 1.54976773116654$"
      ],
      "text/plain": [
       "1.54976773116654"
      ]
     },
     "metadata": {},
     "output_type": "display_data"
    }
   ],
   "source": [
    "# Example 2: providing a number as the upper limit of the sum and evaluating the sum\n",
    "\n",
    "k = smp.symbols(\"k\",Real=True)\n",
    "\n",
    "s = smp.Sum(1/k**2,(k,1,10))\n",
    "\n",
    "display(s)\n",
    "display(s.evalf())"
   ]
  },
  {
   "cell_type": "code",
   "execution_count": 27,
   "metadata": {},
   "outputs": [
    {
     "data": {
      "text/latex": [
       "$\\displaystyle \\sum_{k=1}^{\\infty} \\frac{1}{k^{2}}$"
      ],
      "text/plain": [
       "Sum(k**(-2), (k, 1, oo))"
      ]
     },
     "metadata": {},
     "output_type": "display_data"
    },
    {
     "data": {
      "text/latex": [
       "$\\displaystyle 1.64493406684823$"
      ],
      "text/plain": [
       "1.64493406684823"
      ]
     },
     "metadata": {},
     "output_type": "display_data"
    }
   ],
   "source": [
    "# Example 3: providing oo as the upper limit of the sum and evaluating the sum (if it converges !)\n",
    "\n",
    "k = smp.symbols(\"k\",Real=True)\n",
    "\n",
    "s = smp.Sum(1/k**2,(k,1,smp.oo)) # try to erase the exponent 2 of k^2 and take the sum of 1/k \n",
    "\n",
    "display(s)\n",
    "display(s.evalf())"
   ]
  },
  {
   "cell_type": "markdown",
   "metadata": {},
   "source": [
    "### **Products**"
   ]
  },
  {
   "cell_type": "markdown",
   "metadata": {},
   "source": [
    "Products work much the same way and we can evaluate them using the `Product()` command:"
   ]
  },
  {
   "cell_type": "code",
   "execution_count": 28,
   "metadata": {},
   "outputs": [
    {
     "data": {
      "text/latex": [
       "$\\displaystyle \\prod_{n=1}^{4} n$"
      ],
      "text/plain": [
       "Product(n, (n, 1, 4))"
      ]
     },
     "metadata": {},
     "output_type": "display_data"
    },
    {
     "data": {
      "text/latex": [
       "$\\displaystyle 24.0$"
      ],
      "text/plain": [
       "24.0000000000000"
      ]
     },
     "metadata": {},
     "output_type": "display_data"
    }
   ],
   "source": [
    "# Example 1\n",
    "\n",
    "p = smp.Product(n, (n, 1, 4)) # 4!\n",
    "\n",
    "display(p)\n",
    "display(p.evalf())"
   ]
  },
  {
   "cell_type": "markdown",
   "metadata": {},
   "source": [
    "### **Series**"
   ]
  },
  {
   "cell_type": "markdown",
   "metadata": {},
   "source": [
    "Series expansion is one of the most useful features of calculus. In `SymPy` we can perform a series expansion of an expression using the `series()` command:"
   ]
  },
  {
   "cell_type": "code",
   "execution_count": 29,
   "metadata": {},
   "outputs": [
    {
     "data": {
      "text/latex": [
       "$\\displaystyle 1 + x + \\frac{x^{2}}{2} + \\frac{x^{3}}{6} + \\frac{x^{4}}{24} + \\frac{x^{5}}{120} + O\\left(x^{6}\\right)$"
      ],
      "text/plain": [
       "1 + x + x**2/2 + x**3/6 + x**4/24 + x**5/120 + O(x**6)"
      ]
     },
     "execution_count": 29,
     "metadata": {},
     "output_type": "execute_result"
    }
   ],
   "source": [
    "# Example 1: Maclaurin expansion of e^x\n",
    "smp.series(smp.exp(x), x)"
   ]
  },
  {
   "cell_type": "code",
   "execution_count": 30,
   "metadata": {},
   "outputs": [
    {
     "data": {
      "text/latex": [
       "$\\displaystyle 1 + x + \\frac{x^{2}}{2} + \\frac{x^{3}}{6} + \\frac{x^{4}}{24} + \\frac{x^{5}}{120} + O\\left(x^{6}\\right)$"
      ],
      "text/plain": [
       "1 + x + x**2/2 + x**3/6 + x**4/24 + x**5/120 + O(x**6)"
      ]
     },
     "execution_count": 30,
     "metadata": {},
     "output_type": "execute_result"
    }
   ],
   "source": [
    "# Alternative way wity method\n",
    "smp.exp(x).series(x)"
   ]
  },
  {
   "cell_type": "markdown",
   "metadata": {},
   "source": [
    "By default the expression is expanded around $x=0$, but we can expand around any value of $x$ by explicitly include a value in the method call:"
   ]
  },
  {
   "cell_type": "code",
   "execution_count": 31,
   "metadata": {},
   "outputs": [
    {
     "data": {
      "text/latex": [
       "$\\displaystyle e^{2} + \\left(x - 2\\right) e^{2} + \\frac{\\left(x - 2\\right)^{2} e^{2}}{2} + \\frac{\\left(x - 2\\right)^{3} e^{2}}{6} + \\frac{\\left(x - 2\\right)^{4} e^{2}}{24} + \\frac{\\left(x - 2\\right)^{5} e^{2}}{120} + O\\left(\\left(x - 2\\right)^{6}; x\\rightarrow 2\\right)$"
      ],
      "text/plain": [
       "exp(2) + (x - 2)*exp(2) + (x - 2)**2*exp(2)/2 + (x - 2)**3*exp(2)/6 + (x - 2)**4*exp(2)/24 + (x - 2)**5*exp(2)/120 + O((x - 2)**6, (x, 2))"
      ]
     },
     "execution_count": 31,
     "metadata": {},
     "output_type": "execute_result"
    }
   ],
   "source": [
    "# Example 2: Taylor expansion of e^x around x=2\n",
    "smp.exp(x).series(x,2)"
   ]
  },
  {
   "cell_type": "markdown",
   "metadata": {},
   "source": [
    "Also, we can explicitly define to which order the series expansion should be carried out:"
   ]
  },
  {
   "cell_type": "code",
   "execution_count": 32,
   "metadata": {},
   "outputs": [
    {
     "data": {
      "text/latex": [
       "$\\displaystyle -1 - \\frac{\\left(x - 1\\right)^{2}}{2} + \\frac{\\left(x - 1\\right)^{3}}{3} - \\frac{\\left(x - 1\\right)^{4}}{4} + \\frac{\\left(x - 1\\right)^{5}}{5} - \\frac{\\left(x - 1\\right)^{6}}{6} + \\frac{\\left(x - 1\\right)^{7}}{7} - \\frac{\\left(x - 1\\right)^{8}}{8} + \\frac{\\left(x - 1\\right)^{9}}{9} - \\frac{\\left(x - 1\\right)^{10}}{10} + x + O\\left(\\left(x - 1\\right)^{11}; x\\rightarrow 1\\right)$"
      ],
      "text/plain": [
       "-1 - (x - 1)**2/2 + (x - 1)**3/3 - (x - 1)**4/4 + (x - 1)**5/5 - (x - 1)**6/6 + (x - 1)**7/7 - (x - 1)**8/8 + (x - 1)**9/9 - (x - 1)**10/10 + x + O((x - 1)**11, (x, 1))"
      ]
     },
     "execution_count": 32,
     "metadata": {},
     "output_type": "execute_result"
    }
   ],
   "source": [
    "# Example 3: Taylor expansion of ln(x) around x=1, to 10th order\n",
    "smp.log(x).series(x,1,11)"
   ]
  },
  {
   "cell_type": "markdown",
   "metadata": {},
   "source": [
    "As we can see the series expansion includes the order of the approximation, which is very useful for keeping track of the order of validity when we do calculations with series expansions of different order:"
   ]
  },
  {
   "cell_type": "code",
   "execution_count": 33,
   "metadata": {},
   "outputs": [
    {
     "data": {
      "text/latex": [
       "$\\displaystyle x - \\frac{x^{3}}{6} + \\frac{x^{5}}{120} + O\\left(x^{6}\\right)$"
      ],
      "text/plain": [
       "x - x**3/6 + x**5/120 + O(x**6)"
      ]
     },
     "metadata": {},
     "output_type": "display_data"
    }
   ],
   "source": [
    "# Example 4: Maclaurin expansions of sin(x) and cos(x), but to different orders of approximation\n",
    "s1 = smp.sin(x).series(x,0,6) # expand to 5th order\n",
    "display(s1)"
   ]
  },
  {
   "cell_type": "code",
   "execution_count": 34,
   "metadata": {},
   "outputs": [
    {
     "data": {
      "text/latex": [
       "$\\displaystyle 1 - \\frac{x^{2}}{2} + O\\left(x^{3}\\right)$"
      ],
      "text/plain": [
       "1 - x**2/2 + O(x**3)"
      ]
     },
     "metadata": {},
     "output_type": "display_data"
    }
   ],
   "source": [
    "s2 = smp.cos(x).series(x,0,3) # expand to 2nd order\n",
    "display(s2)"
   ]
  },
  {
   "cell_type": "code",
   "execution_count": 35,
   "metadata": {},
   "outputs": [
    {
     "data": {
      "text/latex": [
       "$\\displaystyle 1 + x - \\frac{x^{2}}{2} + O\\left(x^{3}\\right)$"
      ],
      "text/plain": [
       "1 + x - x**2/2 + O(x**3)"
      ]
     },
     "execution_count": 35,
     "metadata": {},
     "output_type": "execute_result"
    }
   ],
   "source": [
    "# Taking the sum of the two expansions\n",
    "smp.expand(s1+s2)"
   ]
  },
  {
   "cell_type": "code",
   "execution_count": 36,
   "metadata": {},
   "outputs": [
    {
     "data": {
      "text/latex": [
       "$\\displaystyle 1 + x - \\frac{x^{2}}{2} + O\\left(x^{3}\\right)$"
      ],
      "text/plain": [
       "1 + x - x**2/2 + O(x**3)"
      ]
     },
     "execution_count": 36,
     "metadata": {},
     "output_type": "execute_result"
    }
   ],
   "source": [
    "# Same result if we calculate directly the McLaurin expansion of the expression sin(x)+cos(x), to 2nd order of approximation\n",
    "s = (smp.sin(x)+smp.cos(x)).series(x,0,3)\n",
    "s"
   ]
  },
  {
   "cell_type": "markdown",
   "metadata": {},
   "source": [
    "If we want to get just the order of the error of the approximation we use the `getO()` or `getn()` methods:"
   ]
  },
  {
   "cell_type": "code",
   "execution_count": 37,
   "metadata": {},
   "outputs": [
    {
     "data": {
      "text/latex": [
       "$\\displaystyle O\\left(x^{6}\\right)$"
      ],
      "text/plain": [
       "O(x**6)"
      ]
     },
     "execution_count": 37,
     "metadata": {},
     "output_type": "execute_result"
    }
   ],
   "source": [
    "s1.getO()"
   ]
  },
  {
   "cell_type": "code",
   "execution_count": 38,
   "metadata": {},
   "outputs": [
    {
     "data": {
      "text/latex": [
       "$\\displaystyle 6$"
      ],
      "text/plain": [
       "6"
      ]
     },
     "execution_count": 38,
     "metadata": {},
     "output_type": "execute_result"
    }
   ],
   "source": [
    "s1.getn()"
   ]
  },
  {
   "cell_type": "markdown",
   "metadata": {},
   "source": [
    "If we want to get rid of the order of the error information we can use the `removeO` method:"
   ]
  },
  {
   "cell_type": "code",
   "execution_count": 39,
   "metadata": {},
   "outputs": [
    {
     "data": {
      "text/latex": [
       "$\\displaystyle \\frac{x^{5}}{120} - \\frac{x^{3}}{6} + x$"
      ],
      "text/plain": [
       "x**5/120 - x**3/6 + x"
      ]
     },
     "execution_count": 39,
     "metadata": {},
     "output_type": "execute_result"
    }
   ],
   "source": [
    "s1.removeO()"
   ]
  },
  {
   "cell_type": "code",
   "execution_count": 40,
   "metadata": {},
   "outputs": [
    {
     "data": {
      "text/latex": [
       "$\\displaystyle 1 - \\frac{x^{2}}{2}$"
      ],
      "text/plain": [
       "1 - x**2/2"
      ]
     },
     "execution_count": 40,
     "metadata": {},
     "output_type": "execute_result"
    }
   ],
   "source": [
    "s2.removeO()"
   ]
  },
  {
   "cell_type": "code",
   "execution_count": 41,
   "metadata": {},
   "outputs": [
    {
     "data": {
      "text/latex": [
       "$\\displaystyle \\frac{x^{5}}{120} - \\frac{x^{3}}{6} - \\frac{x^{2}}{2} + x + 1$"
      ],
      "text/plain": [
       "x**5/120 - x**3/6 - x**2/2 + x + 1"
      ]
     },
     "execution_count": 41,
     "metadata": {},
     "output_type": "execute_result"
    }
   ],
   "source": [
    "# Taking the sum of the two expansions, without the order of approximation\n",
    "s1.removeO() + s2.removeO() # this will give the wrong result for the expansion of sin(x)+cos(x) to 5th order!!!"
   ]
  },
  {
   "cell_type": "code",
   "execution_count": 42,
   "metadata": {},
   "outputs": [
    {
     "data": {
      "text/latex": [
       "$\\displaystyle 1 + x - \\frac{x^{2}}{2} - \\frac{x^{3}}{6} + \\frac{x^{4}}{24} + \\frac{x^{5}}{120} + O\\left(x^{6}\\right)$"
      ],
      "text/plain": [
       "1 + x - x**2/2 - x**3/6 + x**4/24 + x**5/120 + O(x**6)"
      ]
     },
     "execution_count": 42,
     "metadata": {},
     "output_type": "execute_result"
    }
   ],
   "source": [
    "# The correct expansion is the following\n",
    "smp.series(smp.sin(x)+smp.cos(x),x,0,6)"
   ]
  },
  {
   "cell_type": "code",
   "execution_count": null,
   "metadata": {},
   "outputs": [],
   "source": []
  }
 ],
 "metadata": {
  "kernelspec": {
   "display_name": "Python 3",
   "language": "python",
   "name": "python3"
  },
  "language_info": {
   "codemirror_mode": {
    "name": "ipython",
    "version": 3
   },
   "file_extension": ".py",
   "mimetype": "text/x-python",
   "name": "python",
   "nbconvert_exporter": "python",
   "pygments_lexer": "ipython3",
   "version": "3.11.6"
  }
 },
 "nbformat": 4,
 "nbformat_minor": 2
}
