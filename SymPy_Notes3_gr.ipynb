{
 "cells": [
  {
   "cell_type": "markdown",
   "metadata": {},
   "source": [
    "**ΤΜΗΜΑ ΦΥΣΙΚΗΣ - ΑΡΙΣΤΟΤΕΛΕΙΟ ΠΑΝΕΠΙΣΤΗΜΙΟ ΘΕΣΣΑΛΟΝΙΚΗΣ**<br>\n",
    "**ΜΑΘΗΜΑ: Προβλήματα Κβαντικής Φυσικής [ΓΘΕ204]**<br>\n",
    "**ΑΚΑΔΗΜΑΪΚΟ ΕΤΟΣ: 2024-2025**\n",
    "\n",
    "***Σημειωματάριο SymPy 3:***<br>\n",
    "-Απειροστικός λογισμός με τη `SymPy`<br>\n",
    "\n",
    "**Σημειώσεις: Ιωάννης Στεργάκης (μεταπτυχιακός φοιτητής του ΠΜΣ Υπολογιστικής Φυσικής ΑΠΘ)**"
   ]
  },
  {
   "cell_type": "code",
   "execution_count": 1,
   "metadata": {},
   "outputs": [],
   "source": [
    "# Εισαγωγή της βιβλιοθήκης SymPy (μην το ξεχνάτε ποτέ αυτό !!!)\n",
    "import sympy as smp"
   ]
  },
  {
   "cell_type": "markdown",
   "metadata": {},
   "source": [
    "# **Εφαρμογή 4: Απειροστικός λογισμός**\n",
    "\n",
    "Στη `SymPy` μπορούμε να υλοποιήσουμε αρκετές διαδικασίες απειροστικού λογισμού, όπως υπολογισμό ορίων, διαφόριση, ολοκλήρωση και άλλες."
   ]
  },
  {
   "cell_type": "markdown",
   "metadata": {},
   "source": [
    "## A. Υπολογισμός ορίων"
   ]
  },
  {
   "cell_type": "markdown",
   "metadata": {},
   "source": [
    "Χρησιμοποιώντας την εντολή `limit()`, μπορεί κανείς να υπολογίσει το όριο μιας έκφρασης ή μιας συνάρτησης:"
   ]
  },
  {
   "cell_type": "code",
   "execution_count": 2,
   "metadata": {},
   "outputs": [
    {
     "data": {
      "text/latex": [
       "$\\displaystyle 1$"
      ],
      "text/plain": [
       "1"
      ]
     },
     "execution_count": 2,
     "metadata": {},
     "output_type": "execute_result"
    }
   ],
   "source": [
    "# Παράδειγμα 1\n",
    "x = smp.symbols(\"x\",Real=True)\n",
    "smp.limit(smp.sin(x)/x,x,0)"
   ]
  },
  {
   "cell_type": "markdown",
   "metadata": {},
   "source": [
    "Μπορούμε να καθορίσουμε την κατεύθυνση προσέγγισης σε ένα όριο:"
   ]
  },
  {
   "cell_type": "code",
   "execution_count": 3,
   "metadata": {},
   "outputs": [
    {
     "data": {
      "text/latex": [
       "$\\displaystyle \\infty$"
      ],
      "text/plain": [
       "oo"
      ]
     },
     "metadata": {},
     "output_type": "display_data"
    },
    {
     "data": {
      "text/latex": [
       "$\\displaystyle -\\infty$"
      ],
      "text/plain": [
       "-oo"
      ]
     },
     "metadata": {},
     "output_type": "display_data"
    }
   ],
   "source": [
    "# Παράδειγμα 2 \n",
    "display(smp.limit(1/x,x,0,\"+\"))\n",
    "display(smp.limit(1/x,x,0,\"-\"))"
   ]
  },
  {
   "cell_type": "markdown",
   "metadata": {},
   "source": [
    "Φυσικά υπάρχουν όρια στα οποία η μεταβλητή του ορίου προσεγγίζει το $\\infty$ ή το $-\\infty$:"
   ]
  },
  {
   "cell_type": "code",
   "execution_count": 4,
   "metadata": {},
   "outputs": [
    {
     "data": {
      "text/latex": [
       "$\\displaystyle \\infty$"
      ],
      "text/plain": [
       "oo"
      ]
     },
     "metadata": {},
     "output_type": "display_data"
    },
    {
     "data": {
      "text/latex": [
       "$\\displaystyle 0$"
      ],
      "text/plain": [
       "0"
      ]
     },
     "metadata": {},
     "output_type": "display_data"
    },
    {
     "data": {
      "text/latex": [
       "$\\displaystyle 0$"
      ],
      "text/plain": [
       "0"
      ]
     },
     "metadata": {},
     "output_type": "display_data"
    },
    {
     "data": {
      "text/latex": [
       "$\\displaystyle \\infty$"
      ],
      "text/plain": [
       "oo"
      ]
     },
     "metadata": {},
     "output_type": "display_data"
    }
   ],
   "source": [
    "# Παράδειγμα 3\n",
    "display(smp.limit(smp.exp(-x),x,-smp.oo))\n",
    "display(smp.limit(smp.exp(-x),x,smp.oo))\n",
    "display(smp.limit(smp.exp(x),x,-smp.oo))\n",
    "display(smp.limit(smp.exp(x),x,smp.oo))"
   ]
  },
  {
   "cell_type": "markdown",
   "metadata": {},
   "source": [
    "Τα όρια των συναρτήσεων πολλών μεταβλητών παρουσιάζουν ιδιαίτερο ενδιαφέρον:"
   ]
  },
  {
   "cell_type": "code",
   "execution_count": 5,
   "metadata": {},
   "outputs": [
    {
     "data": {
      "text/latex": [
       "$\\displaystyle x \\sin{\\left(y \\right)} + y \\cos{\\left(x \\right)}$"
      ],
      "text/plain": [
       "x*sin(y) + y*cos(x)"
      ]
     },
     "metadata": {},
     "output_type": "display_data"
    },
    {
     "data": {
      "text/latex": [
       "$\\displaystyle y$"
      ],
      "text/plain": [
       "y"
      ]
     },
     "metadata": {},
     "output_type": "display_data"
    },
    {
     "data": {
      "text/latex": [
       "$\\displaystyle x + \\frac{\\pi \\cos{\\left(x \\right)}}{2}$"
      ],
      "text/plain": [
       "x + pi*cos(x)/2"
      ]
     },
     "metadata": {},
     "output_type": "display_data"
    },
    {
     "data": {
      "text/latex": [
       "$\\displaystyle \\frac{\\pi}{2}$"
      ],
      "text/plain": [
       "pi/2"
      ]
     },
     "metadata": {},
     "output_type": "display_data"
    },
    {
     "data": {
      "text/latex": [
       "$\\displaystyle \\frac{\\pi}{2}$"
      ],
      "text/plain": [
       "pi/2"
      ]
     },
     "metadata": {},
     "output_type": "display_data"
    }
   ],
   "source": [
    "# Παράδειγμα 4\n",
    "x,y = smp.symbols(\"x,y\",Real=True)\n",
    "def f(x,y):\n",
    "    return x*smp.sin(y)+y*smp.cos(x)\n",
    "\n",
    "display(f(x,y))\n",
    "\n",
    "lim_x = smp.limit(f(x,y),x,0)\n",
    "lim_y = smp.limit(f(x,y),y,smp.pi/2)\n",
    "lim_xy = smp.limit(lim_x,y,smp.pi/2)\n",
    "lim_yx = smp.limit(lim_y,x,0)\n",
    "display(lim_x)\n",
    "display(lim_y)\n",
    "display(lim_xy)\n",
    "display(lim_yx)"
   ]
  },
  {
   "cell_type": "code",
   "execution_count": 6,
   "metadata": {},
   "outputs": [
    {
     "data": {
      "text/latex": [
       "$\\displaystyle \\frac{e^{x - y}}{x}$"
      ],
      "text/plain": [
       "exp(x - y)/x"
      ]
     },
     "metadata": {},
     "output_type": "display_data"
    },
    {
     "data": {
      "text/latex": [
       "$\\displaystyle - \\infty \\operatorname{sign}{\\left(e^{- y} \\right)}$"
      ],
      "text/plain": [
       "-oo*sign(exp(-y))"
      ]
     },
     "metadata": {},
     "output_type": "display_data"
    },
    {
     "data": {
      "text/latex": [
       "$\\displaystyle \\frac{e^{x}}{x}$"
      ],
      "text/plain": [
       "exp(x)/x"
      ]
     },
     "metadata": {},
     "output_type": "display_data"
    },
    {
     "data": {
      "text/latex": [
       "$\\displaystyle \\lim_{y \\to 0^+}\\left(- \\infty \\operatorname{sign}{\\left(e^{- y} \\right)}\\right)$"
      ],
      "text/plain": [
       "Limit(-oo*sign(exp(-y)), y, 0, dir='+')"
      ]
     },
     "metadata": {},
     "output_type": "display_data"
    },
    {
     "data": {
      "text/latex": [
       "$\\displaystyle \\infty$"
      ],
      "text/plain": [
       "oo"
      ]
     },
     "metadata": {},
     "output_type": "display_data"
    }
   ],
   "source": [
    "# Παράδειγμα 5\n",
    "x,y = smp.symbols(\"x,y\",Real=True)\n",
    "def f(x,y):\n",
    "    return smp.exp(x-y)/x\n",
    "\n",
    "display(f(x,y))\n",
    "\n",
    "lim_x = smp.limit(f(x,y),x,0,dir=\"-\")\n",
    "lim_y = smp.limit(f(x,y),y,0)\n",
    "lim_xy = smp.limit(lim_x,y,0)\n",
    "lim_yx = smp.limit(lim_y,x,0)\n",
    "display(lim_x)\n",
    "display(lim_y)\n",
    "display(lim_xy)\n",
    "display(lim_yx)"
   ]
  },
  {
   "cell_type": "markdown",
   "metadata": {},
   "source": [
    "## **Παράδειγμα 4**\n",
    "\n",
    "Να οριστεί η παρακάτω συνάρτηση:\n",
    "\n",
    "$$ g(x,y) = cos(xy) + x^3y^2$$\n",
    "\n",
    "**α.** Να ορίσετε τα σύμβολα `x`,`y` και `h` τα οποία είναι πραγματικοί αριθμοί και να εκτυπώσετε τις παραστάσεις:\n",
    "$$Dg\\_Dx = \\frac{g(x+h,y)-g(x,y)}{h}$$\n",
    "\n",
    "$$Dg\\_Dy = \\frac{g(x,y+h)-g(x,y)}{h}$$\n",
    "\n",
    "**β.** Βρείτε τα όρια των παραστάσεων όταν $h\\rightarrow 0$\n",
    "\n",
    "**Λύση**"
   ]
  },
  {
   "cell_type": "code",
   "execution_count": null,
   "metadata": {},
   "outputs": [],
   "source": []
  },
  {
   "cell_type": "markdown",
   "metadata": {},
   "source": [
    "## B. Διαφόριση"
   ]
  },
  {
   "cell_type": "markdown",
   "metadata": {},
   "source": [
    "Για να βρούμε τις παραγώγους μιας συνάρτησης χρηισμοποιούμε την εντολή `diff()`:"
   ]
  },
  {
   "cell_type": "code",
   "execution_count": 7,
   "metadata": {},
   "outputs": [
    {
     "data": {
      "text/latex": [
       "$\\displaystyle - \\frac{1}{x^{2}}$"
      ],
      "text/plain": [
       "-1/x**2"
      ]
     },
     "execution_count": 7,
     "metadata": {},
     "output_type": "execute_result"
    }
   ],
   "source": [
    "# Παράδειγμα 1\n",
    "x = smp.symbols(\"x\",Real=True)\n",
    "def f(x):\n",
    "    return smp.log(x)\n",
    "\n",
    "smp.diff(f(x),x,2)"
   ]
  },
  {
   "cell_type": "code",
   "execution_count": 8,
   "metadata": {},
   "outputs": [
    {
     "data": {
      "text/latex": [
       "$\\displaystyle - \\frac{1}{x^{2}}$"
      ],
      "text/plain": [
       "-1/x**2"
      ]
     },
     "execution_count": 8,
     "metadata": {},
     "output_type": "execute_result"
    }
   ],
   "source": [
    "# Εναλλακτικός τρόπος διαφόρισης\n",
    "f(x).diff(x,2)"
   ]
  },
  {
   "cell_type": "code",
   "execution_count": 9,
   "metadata": {},
   "outputs": [
    {
     "data": {
      "text/latex": [
       "$\\displaystyle x \\cos{\\left(y \\right)} + y \\cos{\\left(x \\right)}$"
      ],
      "text/plain": [
       "x*cos(y) + y*cos(x)"
      ]
     },
     "metadata": {},
     "output_type": "display_data"
    },
    {
     "data": {
      "text/latex": [
       "$\\displaystyle - y \\sin{\\left(x \\right)} + \\cos{\\left(y \\right)}$"
      ],
      "text/plain": [
       "-y*sin(x) + cos(y)"
      ]
     },
     "metadata": {},
     "output_type": "display_data"
    },
    {
     "data": {
      "text/latex": [
       "$\\displaystyle - x \\sin{\\left(y \\right)} + \\cos{\\left(x \\right)}$"
      ],
      "text/plain": [
       "-x*sin(y) + cos(x)"
      ]
     },
     "metadata": {},
     "output_type": "display_data"
    },
    {
     "data": {
      "text/latex": [
       "$\\displaystyle - \\cos{\\left(x \\right)}$"
      ],
      "text/plain": [
       "-cos(x)"
      ]
     },
     "metadata": {},
     "output_type": "display_data"
    },
    {
     "data": {
      "text/latex": [
       "$\\displaystyle - \\cos{\\left(y \\right)}$"
      ],
      "text/plain": [
       "-cos(y)"
      ]
     },
     "metadata": {},
     "output_type": "display_data"
    }
   ],
   "source": [
    "# Παράδειγμα 2\n",
    "x,y = smp.symbols(\"x,y\",Real=True)\n",
    "def f(x,y):\n",
    "    return y*smp.cos(x) + x*smp.cos(y)\n",
    "\n",
    "display(f(x,y))\n",
    "\n",
    "display(smp.diff(f(x,y),x))\n",
    "display(smp.diff(f(x,y),y))\n",
    "display(smp.diff(f(x,y),x,2,y))\n",
    "display(smp.diff(f(x,y),x,y,2))"
   ]
  },
  {
   "cell_type": "code",
   "execution_count": 10,
   "metadata": {},
   "outputs": [],
   "source": [
    "# Παράδειγμα 3: διαφόριση συμβόλων-συναρτήσεων\n",
    "x,y = smp.symbols(\"x,y\",Real=True)\n",
    "u = smp.Function(\"u\")\n",
    "v = smp.Function(\"v\")(x,y)"
   ]
  },
  {
   "cell_type": "code",
   "execution_count": 11,
   "metadata": {},
   "outputs": [
    {
     "data": {
      "text/plain": [
       "u"
      ]
     },
     "metadata": {},
     "output_type": "display_data"
    },
    {
     "data": {
      "text/latex": [
       "$\\displaystyle v{\\left(x,y \\right)}$"
      ],
      "text/plain": [
       "v(x, y)"
      ]
     },
     "metadata": {},
     "output_type": "display_data"
    }
   ],
   "source": [
    "display(u,v)"
   ]
  },
  {
   "cell_type": "code",
   "execution_count": 12,
   "metadata": {},
   "outputs": [
    {
     "data": {
      "text/latex": [
       "$\\displaystyle \\frac{d}{d x} u{\\left(x \\right)}$"
      ],
      "text/plain": [
       "Derivative(u(x), x)"
      ]
     },
     "metadata": {},
     "output_type": "display_data"
    }
   ],
   "source": [
    "display(u(x).diff(x))"
   ]
  },
  {
   "cell_type": "code",
   "execution_count": 13,
   "metadata": {},
   "outputs": [
    {
     "data": {
      "text/latex": [
       "$\\displaystyle 0$"
      ],
      "text/plain": [
       "0"
      ]
     },
     "metadata": {},
     "output_type": "display_data"
    }
   ],
   "source": [
    "display(u(x).diff(y))"
   ]
  },
  {
   "cell_type": "code",
   "execution_count": 14,
   "metadata": {},
   "outputs": [
    {
     "data": {
      "text/latex": [
       "$\\displaystyle \\frac{\\partial}{\\partial x} v{\\left(x,y \\right)}$"
      ],
      "text/plain": [
       "Derivative(v(x, y), x)"
      ]
     },
     "metadata": {},
     "output_type": "display_data"
    }
   ],
   "source": [
    "display(v.diff(x))"
   ]
  },
  {
   "cell_type": "code",
   "execution_count": 15,
   "metadata": {},
   "outputs": [
    {
     "data": {
      "text/latex": [
       "$\\displaystyle \\frac{\\partial^{2}}{\\partial y^{2}} v{\\left(x,y \\right)}$"
      ],
      "text/plain": [
       "Derivative(v(x, y), (y, 2))"
      ]
     },
     "metadata": {},
     "output_type": "display_data"
    }
   ],
   "source": [
    "display(v.diff(y,2))"
   ]
  },
  {
   "cell_type": "code",
   "execution_count": 16,
   "metadata": {},
   "outputs": [
    {
     "data": {
      "text/latex": [
       "$\\displaystyle \\frac{\\partial^{2}}{\\partial y\\partial x} v{\\left(x,y \\right)}$"
      ],
      "text/plain": [
       "Derivative(v(x, y), x, y)"
      ]
     },
     "metadata": {},
     "output_type": "display_data"
    }
   ],
   "source": [
    "display(v.diff(x,y))"
   ]
  },
  {
   "cell_type": "code",
   "execution_count": 17,
   "metadata": {},
   "outputs": [
    {
     "data": {
      "text/latex": [
       "$\\displaystyle \\frac{\\partial^{4}}{\\partial y^{3}\\partial x} v{\\left(x,y \\right)}$"
      ],
      "text/plain": [
       "Derivative(v(x, y), x, (y, 3))"
      ]
     },
     "metadata": {},
     "output_type": "display_data"
    }
   ],
   "source": [
    "display(v.diff(x,y,3))"
   ]
  },
  {
   "cell_type": "markdown",
   "metadata": {},
   "source": [
    "## Γ. Ολοκλήρωση"
   ]
  },
  {
   "cell_type": "markdown",
   "metadata": {},
   "source": [
    "Για τον υπολογισμό ολοκληρωμάτων στη `SymPy` χρησιμοποιούμε την εντολή `integrate()`"
   ]
  },
  {
   "cell_type": "markdown",
   "metadata": {},
   "source": [
    "### **Αόριστα ολοκληρώματα**"
   ]
  },
  {
   "cell_type": "code",
   "execution_count": 18,
   "metadata": {},
   "outputs": [
    {
     "data": {
      "text/latex": [
       "$\\displaystyle 3 x^{2} y^{3} + y \\cos{\\left(x z \\right)}$"
      ],
      "text/plain": [
       "3*x**2*y**3 + y*cos(x*z)"
      ]
     },
     "metadata": {},
     "output_type": "display_data"
    },
    {
     "data": {
      "text/latex": [
       "$\\displaystyle x^{3} y^{3} + y \\left(\\begin{cases} \\frac{\\sin{\\left(x z \\right)}}{z} & \\text{for}\\: z \\neq 0 \\\\x & \\text{otherwise} \\end{cases}\\right)$"
      ],
      "text/plain": [
       "x**3*y**3 + y*Piecewise((sin(x*z)/z, Ne(z, 0)), (x, True))"
      ]
     },
     "execution_count": 18,
     "metadata": {},
     "output_type": "execute_result"
    }
   ],
   "source": [
    "# Παράδειγμα 1\n",
    "\n",
    "def f(x,y,z):\n",
    "    return 3*x**2*y**3 + y*smp.cos(x*z)\n",
    "\n",
    "# Χωρίς περιορισμούς για τις συμβολικές μεταβλητές\n",
    "x,y,z = smp.symbols(\"x,y,z\")\n",
    "\n",
    "# Εκτύπωση του τύπου της συνάρτησης\n",
    "display(f(x,y,z))\n",
    "# Ολοκλήρωση της συνάρτησης ως προς τη μεταβλητή x\n",
    "smp.integrate(f(x,y,z),x)"
   ]
  },
  {
   "cell_type": "code",
   "execution_count": 19,
   "metadata": {},
   "outputs": [
    {
     "data": {
      "text/latex": [
       "$\\displaystyle 3 x^{2} y^{3} + y \\cos{\\left(x z \\right)}$"
      ],
      "text/plain": [
       "3*x**2*y**3 + y*cos(x*z)"
      ]
     },
     "metadata": {},
     "output_type": "display_data"
    },
    {
     "data": {
      "text/latex": [
       "$\\displaystyle x^{3} y^{3} + \\frac{y \\sin{\\left(x z \\right)}}{z}$"
      ],
      "text/plain": [
       "x**3*y**3 + y*sin(x*z)/z"
      ]
     },
     "execution_count": 19,
     "metadata": {},
     "output_type": "execute_result"
    }
   ],
   "source": [
    "# Προσθήκη περιορισμών στις συμβολικές μεταβλητές\n",
    "x,y = smp.symbols(\"x,y\",Real=True)\n",
    "z = smp.symbols(\"z\",Real=True,nonzero=True)\n",
    "\n",
    "# Εκτύπωση του τύπου της συνάρτησης\n",
    "display(f(x,y,z))\n",
    "# Ολοκλήρωση της συνάρτησης ως προς τη μεταβλητή x\n",
    "smp.integrate(f(x,y,z),x)"
   ]
  },
  {
   "cell_type": "code",
   "execution_count": 20,
   "metadata": {},
   "outputs": [
    {
     "data": {
      "text/latex": [
       "$\\displaystyle \\sin{\\left(x y \\right)} + \\cos{\\left(y z \\right)}$"
      ],
      "text/plain": [
       "sin(x*y) + cos(y*z)"
      ]
     },
     "metadata": {},
     "output_type": "display_data"
    },
    {
     "data": {
      "text/latex": [
       "$\\displaystyle x \\cos{\\left(y z \\right)} + \\begin{cases} - \\frac{\\cos{\\left(x y \\right)}}{y} & \\text{for}\\: y \\neq 0 \\\\0 & \\text{otherwise} \\end{cases}$"
      ],
      "text/plain": [
       "x*cos(y*z) + Piecewise((-cos(x*y)/y, Ne(y, 0)), (0, True))"
      ]
     },
     "metadata": {},
     "output_type": "display_data"
    },
    {
     "data": {
      "text/latex": [
       "$\\displaystyle x \\cos{\\left(y z \\right)} - \\frac{\\cos{\\left(x y \\right)}}{y}$"
      ],
      "text/plain": [
       "x*cos(y*z) - cos(x*y)/y"
      ]
     },
     "metadata": {},
     "output_type": "display_data"
    },
    {
     "data": {
      "text/latex": [
       "$\\displaystyle x$"
      ],
      "text/plain": [
       "x"
      ]
     },
     "metadata": {},
     "output_type": "display_data"
    }
   ],
   "source": [
    "# Παράδειγμα 2\n",
    "\n",
    "# Χρήση διαφορετικής συνάρτησης\n",
    "def f(x,y,z):\n",
    "    return smp.sin(x*y) + smp.cos(y*z)\n",
    "\n",
    "# Εκτύπωση του τύπου της συνάρτησης\n",
    "display(f(x,y,z))\n",
    "\n",
    "# Υπολογισμός 1\n",
    "x,y,z = smp.symbols(\"x,y,z\",Real=True)\n",
    "display(smp.integrate(f(x,y,z),x))\n",
    "\n",
    "# Υπολογισμός 2\n",
    "x,z = smp.symbols(\"x,z\",Real=True)\n",
    "y = smp.symbols(\"y\",Real=True,nonzero=True)\n",
    "display(smp.integrate(f(x,y,z),x))\n",
    "\n",
    "# Υπολογισμός 3\n",
    "x,z = smp.symbols(\"x,z\",Real=True)\n",
    "display(smp.integrate(f(x,0,z),x))"
   ]
  },
  {
   "cell_type": "markdown",
   "metadata": {},
   "source": [
    "### **Ορισμένα ολοκληρώματα**"
   ]
  },
  {
   "cell_type": "markdown",
   "metadata": {},
   "source": [
    "Μπορούμε να δώσουμε όρια για τη μεταβλητή ολοκλήρωσης και να υπολογίσουμε ορισμένα ολοκληρώματα"
   ]
  },
  {
   "cell_type": "code",
   "execution_count": 21,
   "metadata": {},
   "outputs": [
    {
     "data": {
      "text/latex": [
       "$\\displaystyle 3 x^{2} y^{3} + y \\cos{\\left(x z \\right)}$"
      ],
      "text/plain": [
       "3*x**2*y**3 + y*cos(x*z)"
      ]
     },
     "metadata": {},
     "output_type": "display_data"
    },
    {
     "data": {
      "text/latex": [
       "$\\displaystyle 2 y^{3} + \\begin{cases} \\frac{2 y \\sin{\\left(z \\right)}}{z} & \\text{for}\\: z > -\\infty \\wedge z < \\infty \\wedge z \\neq 0 \\\\2 y & \\text{otherwise} \\end{cases}$"
      ],
      "text/plain": [
       "2*y**3 + Piecewise((2*y*sin(z)/z, (z > -oo) & (z < oo) & Ne(z, 0)), (2*y, True))"
      ]
     },
     "metadata": {},
     "output_type": "display_data"
    },
    {
     "data": {
      "text/latex": [
       "$\\displaystyle 2 y^{3} + \\frac{2 y \\sin{\\left(z \\right)}}{z}$"
      ],
      "text/plain": [
       "2*y**3 + 2*y*sin(z)/z"
      ]
     },
     "metadata": {},
     "output_type": "display_data"
    },
    {
     "data": {
      "text/latex": [
       "$\\displaystyle 2 y^{3} + 2 y$"
      ],
      "text/plain": [
       "2*y**3 + 2*y"
      ]
     },
     "metadata": {},
     "output_type": "display_data"
    }
   ],
   "source": [
    "# Παράδειγμα 3\n",
    "\n",
    "# Χρήση της συνάρτησης του Παραδείγματος 1\n",
    "def f(x,y,z):\n",
    "    return 3*x**2*y**3 + y*smp.cos(x*z)\n",
    "\n",
    "# Εκτύπωση του τύπου της συνάρτησης\n",
    "display(f(x,y,z))\n",
    "\n",
    "# Υπολογισμός 1\n",
    "x,y,z = smp.symbols(\"x,y,z\",Real=True)\n",
    "display(smp.integrate(f(x,y,z),(x,-1,1)))\n",
    "\n",
    "# Υπολογισμός 2\n",
    "x,y = smp.symbols(\"x,y\",Real=True)\n",
    "z = smp.symbols(\"z\",Real=True,nonzero=True)\n",
    "display(smp.integrate(f(x,y,z),(x,-1,1)))\n",
    "\n",
    "# Υπολογισμός 3\n",
    "x,y = smp.symbols(\"x,y\",Real=True)\n",
    "display(smp.integrate(f(x,y,0),(x,-1,1)))"
   ]
  },
  {
   "cell_type": "markdown",
   "metadata": {},
   "source": [
    "### **Γενικευμένα ολοκληρώματα**"
   ]
  },
  {
   "cell_type": "markdown",
   "metadata": {},
   "source": [
    "Όταν ένα ή και τα δύο όρια του ολοκληρώματος είναι άπειρα, ονομάζουμε το ολοκλήρωμα αυτό γενικευμένο"
   ]
  },
  {
   "cell_type": "code",
   "execution_count": 22,
   "metadata": {},
   "outputs": [
    {
     "data": {
      "text/latex": [
       "$\\displaystyle \\infty$"
      ],
      "text/plain": [
       "oo"
      ]
     },
     "metadata": {},
     "output_type": "display_data"
    }
   ],
   "source": [
    "# Παράδειγμα 4\n",
    "\n",
    "def f(x):\n",
    "    return smp.exp(-x)\n",
    "\n",
    "x = smp.symbols('x',Real=True)\n",
    "I = smp.integrate(f(x),(x,-smp.oo,smp.oo))\n",
    "display(I)"
   ]
  },
  {
   "cell_type": "code",
   "execution_count": 23,
   "metadata": {},
   "outputs": [
    {
     "data": {
      "text/latex": [
       "$\\displaystyle -1 + e^{- a}$"
      ],
      "text/plain": [
       "-1 + exp(-a)"
      ]
     },
     "metadata": {},
     "output_type": "display_data"
    },
    {
     "data": {
      "text/latex": [
       "$\\displaystyle 1 - e^{- b}$"
      ],
      "text/plain": [
       "1 - exp(-b)"
      ]
     },
     "metadata": {},
     "output_type": "display_data"
    },
    {
     "data": {
      "text/latex": [
       "$\\displaystyle - e^{- b} + e^{- a}$"
      ],
      "text/plain": [
       "-exp(-b) + exp(-a)"
      ]
     },
     "metadata": {},
     "output_type": "display_data"
    },
    {
     "data": {
      "text/latex": [
       "$\\displaystyle e^{- a}$"
      ],
      "text/plain": [
       "exp(-a)"
      ]
     },
     "metadata": {},
     "output_type": "display_data"
    },
    {
     "data": {
      "text/latex": [
       "$\\displaystyle \\infty$"
      ],
      "text/plain": [
       "oo"
      ]
     },
     "metadata": {},
     "output_type": "display_data"
    }
   ],
   "source": [
    "# Εναλλακτικός τρόπος\n",
    "\n",
    "a,b = smp.symbols(\"a,b\",Real=True)\n",
    "\n",
    "# Διαχωρισμός του αρχικού ολοκληρώματος σε δύο μη επικαλυπτόμενα ολοκληρώματα με όρια [a,0] και [0,b], αντίστοιχα\n",
    "I1 = smp.integrate(f(x),(x,a,0))\n",
    "display(I1)\n",
    "\n",
    "I2 = smp.integrate(f(x),(x,0,b))\n",
    "display(I2)\n",
    "\n",
    "# Παίρνουμε το άθροισμα των I1 και I2\n",
    "I_sum = I1 + I2\n",
    "display(I_sum)\n",
    "\n",
    "# Παίρνουμε διαδοχικά τα όρια του I_sum, όταν b->oo και a->-oo\n",
    "I_sum_lim_b = smp.limit(I_sum,b,smp.oo)\n",
    "display(I_sum_lim_b)\n",
    "display(smp.limit(I_sum_lim_b,a,-smp.oo))"
   ]
  },
  {
   "cell_type": "markdown",
   "metadata": {},
   "source": [
    "### **Πολλαπλά ολοκληρώματα**"
   ]
  },
  {
   "cell_type": "markdown",
   "metadata": {},
   "source": [
    "Η `SymPy` δεν προσφέρει έναν άμεσο τρόπο υπολογισμού πολλαπλών ολοκληρωμάτων. Επομένως, ο μόνος τρόπος για να βρούμε ένα πολλαπλό ολοκλήρωμα είναι να το κάνουμε χειροκίνητα και διαδοχικά, όπως φαίνεται παρακάτω:"
   ]
  },
  {
   "cell_type": "markdown",
   "metadata": {},
   "source": [
    "Σημείωση: Ο όγκος της σφαίρας δίνεται από το τριπλό ολοκλήρωμα:\n",
    "\n",
    "$$I = \\int^{R}_0 \\int^{2π}_0 \\int^{π}_0 r^2 \\sin{θ} dθdφdr$$\n",
    "\n",
    "όπου $R$ η ακτίνα της σφαίρας"
   ]
  },
  {
   "cell_type": "code",
   "execution_count": 24,
   "metadata": {},
   "outputs": [
    {
     "data": {
      "text/latex": [
       "$\\displaystyle \\frac{4 \\pi R^{3}}{3}$"
      ],
      "text/plain": [
       "4*pi*R**3/3"
      ]
     },
     "metadata": {},
     "output_type": "display_data"
    }
   ],
   "source": [
    "# Παράδειγμα 5: Υπολογισμός του όγκου μιας σφαίρας με ένα τριπλό ολοκλήρωμα\n",
    "\n",
    "r,R = smp.symbols(\"r,R\",positive=True)\n",
    "theta,phi = smp.symbols(\"θ,φ\",Real=True)\n",
    "\n",
    "I_theta = smp.integrate(r**2*smp.sin(theta),(theta,0,smp.pi))\n",
    "I_phi = smp.integrate(I_theta,(phi,0,2*smp.pi))\n",
    "I_R = smp.integrate(I_phi,(r,0,R))\n",
    "display(I_R)"
   ]
  },
  {
   "cell_type": "markdown",
   "metadata": {},
   "source": [
    "## Δ. Αθροίσματα, Γινόμενα και Αναπτύγματα"
   ]
  },
  {
   "cell_type": "markdown",
   "metadata": {},
   "source": [
    "### **Αθροίσματα**"
   ]
  },
  {
   "cell_type": "markdown",
   "metadata": {},
   "source": [
    "Μπορούμε να υπολογίσουμε αθροίσματα χρησιμοποιώντας την εντολή `Sum()`"
   ]
  },
  {
   "cell_type": "code",
   "execution_count": 25,
   "metadata": {},
   "outputs": [
    {
     "data": {
      "text/latex": [
       "$\\displaystyle \\sum_{k=1}^{n} \\frac{1}{k}$"
      ],
      "text/plain": [
       "Sum(1/k, (k, 1, n))"
      ]
     },
     "execution_count": 25,
     "metadata": {},
     "output_type": "execute_result"
    }
   ],
   "source": [
    "# Παράδειγμα 1: συμβολική μορφή του αθροίσματος: 1/k για k:1->n\n",
    "n,k = smp.symbols(\"n,k\",Real=True)\n",
    "\n",
    "smp.Sum(1/k,(k,1,n))"
   ]
  },
  {
   "cell_type": "code",
   "execution_count": 26,
   "metadata": {},
   "outputs": [
    {
     "data": {
      "text/latex": [
       "$\\displaystyle \\sum_{k=1}^{10} \\frac{1}{k^{2}}$"
      ],
      "text/plain": [
       "Sum(k**(-2), (k, 1, 10))"
      ]
     },
     "metadata": {},
     "output_type": "display_data"
    },
    {
     "data": {
      "text/latex": [
       "$\\displaystyle 1.54976773116654$"
      ],
      "text/plain": [
       "1.54976773116654"
      ]
     },
     "metadata": {},
     "output_type": "display_data"
    }
   ],
   "source": [
    "# Παράδειγμα 2: δίνοντας έναν αριθμό ως άνω όριο του αθροίσματος και υπολογίζοντας το άθροισμα\n",
    "\n",
    "k = smp.symbols(\"k\",Real=True)\n",
    "\n",
    "s = smp.Sum(1/k**2,(k,1,10))\n",
    "\n",
    "display(s)\n",
    "display(s.evalf())"
   ]
  },
  {
   "cell_type": "code",
   "execution_count": 27,
   "metadata": {},
   "outputs": [
    {
     "data": {
      "text/latex": [
       "$\\displaystyle \\sum_{k=1}^{\\infty} \\frac{1}{k^{2}}$"
      ],
      "text/plain": [
       "Sum(k**(-2), (k, 1, oo))"
      ]
     },
     "metadata": {},
     "output_type": "display_data"
    },
    {
     "data": {
      "text/latex": [
       "$\\displaystyle 1.64493406684823$"
      ],
      "text/plain": [
       "1.64493406684823"
      ]
     },
     "metadata": {},
     "output_type": "display_data"
    }
   ],
   "source": [
    "# Παράδειγμα 3: δίνοντας το oo ως άνω όριο του αθροίσματος και υπολογίζοντας το άθροισμα (αν συγκλίνει !)\n",
    "\n",
    "k = smp.symbols(\"k\",Real=True)\n",
    "\n",
    "s = smp.Sum(1/k**2,(k,1,smp.oo)) # προσπαθήστε να διαγράψετε τον εκθέτη 2 του k^2 και πάρτε το άθροισμα του 1/k \n",
    "\n",
    "display(s)\n",
    "display(s.evalf())"
   ]
  },
  {
   "cell_type": "markdown",
   "metadata": {},
   "source": [
    "### **Γινόμενα**"
   ]
  },
  {
   "cell_type": "markdown",
   "metadata": {},
   "source": [
    "Τα γινόμενα λειτουργούν με τον ίδιο τρόπο, όπως και τα αθροίσματα, και μπορούμε να τα υπολογίσουμε χρησιμοποιώντας την εντολή `Product()`:"
   ]
  },
  {
   "cell_type": "code",
   "execution_count": 28,
   "metadata": {},
   "outputs": [
    {
     "data": {
      "text/latex": [
       "$\\displaystyle \\prod_{n=1}^{4} n$"
      ],
      "text/plain": [
       "Product(n, (n, 1, 4))"
      ]
     },
     "metadata": {},
     "output_type": "display_data"
    },
    {
     "data": {
      "text/latex": [
       "$\\displaystyle 24.0$"
      ],
      "text/plain": [
       "24.0000000000000"
      ]
     },
     "metadata": {},
     "output_type": "display_data"
    }
   ],
   "source": [
    "# Παράδειγμα 1\n",
    "\n",
    "p = smp.Product(n, (n, 1, 4)) # 4!\n",
    "\n",
    "display(p)\n",
    "display(p.evalf())"
   ]
  },
  {
   "cell_type": "markdown",
   "metadata": {},
   "source": [
    "### **Αναπτύγματα σε δυναμοσειρές**"
   ]
  },
  {
   "cell_type": "markdown",
   "metadata": {},
   "source": [
    "Το ανάπτυγμα σε δυναμοσειρά είναι ένα από τα πιο χρήσιμα χαρακτηριστικά του απειροστικού λογισμού. Στη `SymPy` μπορούμε να βρούμε το ανάπτυγμα μιας έκφρασης σε δυναμοσειρά χρησιμοποιώντας την εντολή `series()`:"
   ]
  },
  {
   "cell_type": "code",
   "execution_count": 29,
   "metadata": {},
   "outputs": [
    {
     "data": {
      "text/latex": [
       "$\\displaystyle 1 + x + \\frac{x^{2}}{2} + \\frac{x^{3}}{6} + \\frac{x^{4}}{24} + \\frac{x^{5}}{120} + O\\left(x^{6}\\right)$"
      ],
      "text/plain": [
       "1 + x + x**2/2 + x**3/6 + x**4/24 + x**5/120 + O(x**6)"
      ]
     },
     "execution_count": 29,
     "metadata": {},
     "output_type": "execute_result"
    }
   ],
   "source": [
    "# Παράδειγμα 1: Ανάπτυγμα Maclaurin του e^x\n",
    "smp.series(smp.exp(x), x)"
   ]
  },
  {
   "cell_type": "code",
   "execution_count": 30,
   "metadata": {},
   "outputs": [
    {
     "data": {
      "text/latex": [
       "$\\displaystyle 1 + x + \\frac{x^{2}}{2} + \\frac{x^{3}}{6} + \\frac{x^{4}}{24} + \\frac{x^{5}}{120} + O\\left(x^{6}\\right)$"
      ],
      "text/plain": [
       "1 + x + x**2/2 + x**3/6 + x**4/24 + x**5/120 + O(x**6)"
      ]
     },
     "execution_count": 30,
     "metadata": {},
     "output_type": "execute_result"
    }
   ],
   "source": [
    "# Εναλλακτικός τρόπος με μέθοδο\n",
    "smp.exp(x).series(x)"
   ]
  },
  {
   "cell_type": "markdown",
   "metadata": {},
   "source": [
    "Από προεπιλογή το ανάπτυγμα υπολογίζεται γύρω από $x=0$, αλλά μπορούμε βρούμε το ανάπτυγμα γύρω από οποιαδήποτε τιμή του $x$, αρκεί να την συμπεριλάβουμε ρητά στην κλήση της μεθόδου:"
   ]
  },
  {
   "cell_type": "code",
   "execution_count": 31,
   "metadata": {},
   "outputs": [
    {
     "data": {
      "text/latex": [
       "$\\displaystyle e^{2} + \\left(x - 2\\right) e^{2} + \\frac{\\left(x - 2\\right)^{2} e^{2}}{2} + \\frac{\\left(x - 2\\right)^{3} e^{2}}{6} + \\frac{\\left(x - 2\\right)^{4} e^{2}}{24} + \\frac{\\left(x - 2\\right)^{5} e^{2}}{120} + O\\left(\\left(x - 2\\right)^{6}; x\\rightarrow 2\\right)$"
      ],
      "text/plain": [
       "exp(2) + (x - 2)*exp(2) + (x - 2)**2*exp(2)/2 + (x - 2)**3*exp(2)/6 + (x - 2)**4*exp(2)/24 + (x - 2)**5*exp(2)/120 + O((x - 2)**6, (x, 2))"
      ]
     },
     "execution_count": 31,
     "metadata": {},
     "output_type": "execute_result"
    }
   ],
   "source": [
    "# Παράδειγμα 2: Ανάπτυγμα Taylor του e^x γύρω από x=2\n",
    "smp.exp(x).series(x,2)"
   ]
  },
  {
   "cell_type": "markdown",
   "metadata": {},
   "source": [
    "Επίσης, μπορούμε να ορίσουμε ρητά μέχρι ποια τάξη θα πρέπει να γίνει το ανάπτυγμα της σειράς:"
   ]
  },
  {
   "cell_type": "code",
   "execution_count": 32,
   "metadata": {},
   "outputs": [
    {
     "data": {
      "text/latex": [
       "$\\displaystyle -1 - \\frac{\\left(x - 1\\right)^{2}}{2} + \\frac{\\left(x - 1\\right)^{3}}{3} - \\frac{\\left(x - 1\\right)^{4}}{4} + \\frac{\\left(x - 1\\right)^{5}}{5} - \\frac{\\left(x - 1\\right)^{6}}{6} + \\frac{\\left(x - 1\\right)^{7}}{7} - \\frac{\\left(x - 1\\right)^{8}}{8} + \\frac{\\left(x - 1\\right)^{9}}{9} - \\frac{\\left(x - 1\\right)^{10}}{10} + x + O\\left(\\left(x - 1\\right)^{11}; x\\rightarrow 1\\right)$"
      ],
      "text/plain": [
       "-1 - (x - 1)**2/2 + (x - 1)**3/3 - (x - 1)**4/4 + (x - 1)**5/5 - (x - 1)**6/6 + (x - 1)**7/7 - (x - 1)**8/8 + (x - 1)**9/9 - (x - 1)**10/10 + x + O((x - 1)**11, (x, 1))"
      ]
     },
     "execution_count": 32,
     "metadata": {},
     "output_type": "execute_result"
    }
   ],
   "source": [
    "# Παράδειγμα 3: Ανάπτυγμα Taylor του ln(x) γύρω από x=1, μέχρι όρους 10ης τάξης\n",
    "smp.log(x).series(x,1,11)"
   ]
  },
  {
   "cell_type": "markdown",
   "metadata": {},
   "source": [
    "Όπως βλέπουμε, το ανάπτυγμα της σειράς περιλαμβάνει την τάξη του σφάλματος προσέγγισης, κάτι που είναι πολύ χρήσιμο για την παρακολούθηση της τάξης ακρίβειας όταν κάνουμε υπολογισμούς με αναπτύγματα σειράς διαφορετικής τάξης:"
   ]
  },
  {
   "cell_type": "code",
   "execution_count": 33,
   "metadata": {},
   "outputs": [
    {
     "data": {
      "text/latex": [
       "$\\displaystyle x - \\frac{x^{3}}{6} + \\frac{x^{5}}{120} + O\\left(x^{6}\\right)$"
      ],
      "text/plain": [
       "x - x**3/6 + x**5/120 + O(x**6)"
      ]
     },
     "metadata": {},
     "output_type": "display_data"
    }
   ],
   "source": [
    "# Παράδειγμα 4: Αναπτύγματα Maclaurin των sin(x) και cos(x), αλλά σε διαφορετικές τάξεις προσέγγισης\n",
    "s1 = smp.sin(x).series(x,0,6) # ανάπτυγμα 5ης τάξης\n",
    "display(s1)"
   ]
  },
  {
   "cell_type": "code",
   "execution_count": 34,
   "metadata": {},
   "outputs": [
    {
     "data": {
      "text/latex": [
       "$\\displaystyle 1 - \\frac{x^{2}}{2} + O\\left(x^{3}\\right)$"
      ],
      "text/plain": [
       "1 - x**2/2 + O(x**3)"
      ]
     },
     "metadata": {},
     "output_type": "display_data"
    }
   ],
   "source": [
    "s2 = smp.cos(x).series(x,0,3) # ανάπτυγμα 2ης τάξης\n",
    "display(s2)"
   ]
  },
  {
   "cell_type": "code",
   "execution_count": 35,
   "metadata": {},
   "outputs": [
    {
     "data": {
      "text/latex": [
       "$\\displaystyle 1 + x - \\frac{x^{2}}{2} + O\\left(x^{3}\\right)$"
      ],
      "text/plain": [
       "1 + x - x**2/2 + O(x**3)"
      ]
     },
     "execution_count": 35,
     "metadata": {},
     "output_type": "execute_result"
    }
   ],
   "source": [
    "# Λαμβάνοντας το άθροισμα των δύο αναπτυγμάτων\n",
    "smp.expand(s1+s2)"
   ]
  },
  {
   "cell_type": "code",
   "execution_count": 36,
   "metadata": {},
   "outputs": [
    {
     "data": {
      "text/latex": [
       "$\\displaystyle 1 + x - \\frac{x^{2}}{2} + O\\left(x^{3}\\right)$"
      ],
      "text/plain": [
       "1 + x - x**2/2 + O(x**3)"
      ]
     },
     "execution_count": 36,
     "metadata": {},
     "output_type": "execute_result"
    }
   ],
   "source": [
    "# Το ίδιο αποτέλεσμα προκύπτει αν υπολογίσουμε απευθείας το ανάπτυγμα McLaurin της έκφρασης sin(x)+cos(x), σε 2ης τάξης προσέγγιση\n",
    "s = (smp.sin(x)+smp.cos(x)).series(x,0,3)\n",
    "s"
   ]
  },
  {
   "cell_type": "markdown",
   "metadata": {},
   "source": [
    "Αν θέλουμε να πάρουμε μόνο την τάξη του σφάλματος της προσέγγισης χρησιμοποιούμε τις μεθόδους `getO()` ή `getn()`:"
   ]
  },
  {
   "cell_type": "code",
   "execution_count": 37,
   "metadata": {},
   "outputs": [
    {
     "data": {
      "text/latex": [
       "$\\displaystyle O\\left(x^{6}\\right)$"
      ],
      "text/plain": [
       "O(x**6)"
      ]
     },
     "execution_count": 37,
     "metadata": {},
     "output_type": "execute_result"
    }
   ],
   "source": [
    "s1.getO()"
   ]
  },
  {
   "cell_type": "code",
   "execution_count": 38,
   "metadata": {},
   "outputs": [
    {
     "data": {
      "text/latex": [
       "$\\displaystyle 6$"
      ],
      "text/plain": [
       "6"
      ]
     },
     "execution_count": 38,
     "metadata": {},
     "output_type": "execute_result"
    }
   ],
   "source": [
    "s1.getn()"
   ]
  },
  {
   "cell_type": "markdown",
   "metadata": {},
   "source": [
    "Αν θέλουμε να απαλλαγούμε από την πληροφορία της τάξης του σφάλματος μπορούμε να χρησιμοποιήσουμε τη μέθοδο `removeO`:"
   ]
  },
  {
   "cell_type": "code",
   "execution_count": 39,
   "metadata": {},
   "outputs": [
    {
     "data": {
      "text/latex": [
       "$\\displaystyle \\frac{x^{5}}{120} - \\frac{x^{3}}{6} + x$"
      ],
      "text/plain": [
       "x**5/120 - x**3/6 + x"
      ]
     },
     "execution_count": 39,
     "metadata": {},
     "output_type": "execute_result"
    }
   ],
   "source": [
    "s1.removeO()"
   ]
  },
  {
   "cell_type": "code",
   "execution_count": 40,
   "metadata": {},
   "outputs": [
    {
     "data": {
      "text/latex": [
       "$\\displaystyle 1 - \\frac{x^{2}}{2}$"
      ],
      "text/plain": [
       "1 - x**2/2"
      ]
     },
     "execution_count": 40,
     "metadata": {},
     "output_type": "execute_result"
    }
   ],
   "source": [
    "s2.removeO()"
   ]
  },
  {
   "cell_type": "code",
   "execution_count": 41,
   "metadata": {},
   "outputs": [
    {
     "data": {
      "text/latex": [
       "$\\displaystyle \\frac{x^{5}}{120} - \\frac{x^{3}}{6} - \\frac{x^{2}}{2} + x + 1$"
      ],
      "text/plain": [
       "x**5/120 - x**3/6 - x**2/2 + x + 1"
      ]
     },
     "execution_count": 41,
     "metadata": {},
     "output_type": "execute_result"
    }
   ],
   "source": [
    "# Λαμβάνοντας το άθροισμα των δύο αναπτυγμάτων, χωρίς την τάξη του σφάλματος προσέγγισης\n",
    "s1.removeO() + s2.removeO() # αυτό θα δώσει λάθος αποτέλεσμα για το ανάπτυγμα της έφρασης sin(x)+cos(x) μέχρι όρους 5ης τάξης !!!"
   ]
  },
  {
   "cell_type": "code",
   "execution_count": 42,
   "metadata": {},
   "outputs": [
    {
     "data": {
      "text/latex": [
       "$\\displaystyle 1 + x - \\frac{x^{2}}{2} - \\frac{x^{3}}{6} + \\frac{x^{4}}{24} + \\frac{x^{5}}{120} + O\\left(x^{6}\\right)$"
      ],
      "text/plain": [
       "1 + x - x**2/2 - x**3/6 + x**4/24 + x**5/120 + O(x**6)"
      ]
     },
     "execution_count": 42,
     "metadata": {},
     "output_type": "execute_result"
    }
   ],
   "source": [
    "# Το σωστό ανάπτυγμα είναι το ακόλουθο\n",
    "smp.series(smp.sin(x)+smp.cos(x),x,0,6)"
   ]
  },
  {
   "cell_type": "markdown",
   "metadata": {},
   "source": []
  }
 ],
 "metadata": {
  "kernelspec": {
   "display_name": "Python 3",
   "language": "python",
   "name": "python3"
  },
  "language_info": {
   "codemirror_mode": {
    "name": "ipython",
    "version": 3
   },
   "file_extension": ".py",
   "mimetype": "text/x-python",
   "name": "python",
   "nbconvert_exporter": "python",
   "pygments_lexer": "ipython3",
   "version": "3.11.6"
  }
 },
 "nbformat": 4,
 "nbformat_minor": 2
}
